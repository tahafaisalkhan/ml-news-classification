{
 "cells": [
  {
   "cell_type": "markdown",
   "metadata": {
    "vscode": {
     "languageId": "plaintext"
    }
   },
   "source": [
    "# Model 1: MultiNomial Naive Bayes"
   ]
  },
  {
   "cell_type": "code",
   "execution_count": 28,
   "metadata": {},
   "outputs": [],
   "source": [
    "import numpy as np\n",
    "import pandas as pd\n",
    "from sklearn.model_selection import train_test_split\n",
    "from sklearn.metrics import accuracy_score, precision_score, recall_score, f1_score, confusion_matrix"
   ]
  },
  {
   "cell_type": "markdown",
   "metadata": {},
   "source": [
    "## Loading the Dataset"
   ]
  },
  {
   "cell_type": "code",
   "execution_count": 29,
   "metadata": {},
   "outputs": [
    {
     "name": "stdout",
     "output_type": "stream",
     "text": [
      "<class 'pandas.core.frame.DataFrame'>\n",
      "RangeIndex: 2086 entries, 0 to 2085\n",
      "Data columns (total 5 columns):\n",
      " #   Column      Non-Null Count  Dtype \n",
      "---  ------      --------------  ----- \n",
      " 0   id          2086 non-null   int64 \n",
      " 1   title       2086 non-null   object\n",
      " 2   link        2086 non-null   object\n",
      " 3   content     2086 non-null   object\n",
      " 4   gold_label  2086 non-null   object\n",
      "dtypes: int64(1), object(4)\n",
      "memory usage: 81.6+ KB\n",
      "\n"
     ]
    },
    {
     "data": {
      "text/html": [
       "<div>\n",
       "<style scoped>\n",
       "    .dataframe tbody tr th:only-of-type {\n",
       "        vertical-align: middle;\n",
       "    }\n",
       "\n",
       "    .dataframe tbody tr th {\n",
       "        vertical-align: top;\n",
       "    }\n",
       "\n",
       "    .dataframe thead th {\n",
       "        text-align: right;\n",
       "    }\n",
       "</style>\n",
       "<table border=\"1\" class=\"dataframe\">\n",
       "  <thead>\n",
       "    <tr style=\"text-align: right;\">\n",
       "      <th></th>\n",
       "      <th>id</th>\n",
       "      <th>title</th>\n",
       "      <th>link</th>\n",
       "      <th>content</th>\n",
       "      <th>gold_label</th>\n",
       "    </tr>\n",
       "  </thead>\n",
       "  <tbody>\n",
       "    <tr>\n",
       "      <th>0</th>\n",
       "      <td>0</td>\n",
       "      <td>نوجوت سنگھ سدھو نے 5 برس بعد ’کپل شرما شو‘ چھو...</td>\n",
       "      <td>https://www.express.pk/story/2733251/navjotsin...</td>\n",
       "      <td>نوجوت سنگھ سدھو کی مشہور بھارتی کامیڈی شو ’دی ...</td>\n",
       "      <td>Entertainment</td>\n",
       "    </tr>\n",
       "    <tr>\n",
       "      <th>1</th>\n",
       "      <td>1</td>\n",
       "      <td>عدنان صدیقی کی شاہ چارلس سے ملاقات کی تصاویر و...</td>\n",
       "      <td>https://www.express.pk/story/2733247/photos-of...</td>\n",
       "      <td>پاکستان کی شوبز انڈسٹری کے معروف اداکار عدنان ...</td>\n",
       "      <td>Entertainment</td>\n",
       "    </tr>\n",
       "    <tr>\n",
       "      <th>2</th>\n",
       "      <td>2</td>\n",
       "      <td>عرفی جاوید کے نئے لباس پر مداح حیران، ویڈیو ان...</td>\n",
       "      <td>https://www.express.pk/story/2733236/fans-are-...</td>\n",
       "      <td>بھارتی ماڈل و اداکار عرفی جاوید کے نئے انداز ن...</td>\n",
       "      <td>Entertainment</td>\n",
       "    </tr>\n",
       "    <tr>\n",
       "      <th>3</th>\n",
       "      <td>3</td>\n",
       "      <td>مہوش حیات کو شادی کیلئے کیسا لڑکا چاہیے؟ انٹرو...</td>\n",
       "      <td>https://www.express.pk/story/2733232/what-kind...</td>\n",
       "      <td>پاکستان شوبز کی اداکارہ مہوش حیات کا کہنا ہے ک...</td>\n",
       "      <td>Entertainment</td>\n",
       "    </tr>\n",
       "    <tr>\n",
       "      <th>4</th>\n",
       "      <td>4</td>\n",
       "      <td>فیصل قریشی سوشل میڈیا پر تنقید کی زد میں</td>\n",
       "      <td>https://www.express.pk/story/2733220/faisal-qu...</td>\n",
       "      <td>مشہور پاکستانی اداکار فیصل قریشی اور ان کی اہل...</td>\n",
       "      <td>Entertainment</td>\n",
       "    </tr>\n",
       "  </tbody>\n",
       "</table>\n",
       "</div>"
      ],
      "text/plain": [
       "   id                                              title  \\\n",
       "0   0  نوجوت سنگھ سدھو نے 5 برس بعد ’کپل شرما شو‘ چھو...   \n",
       "1   1  عدنان صدیقی کی شاہ چارلس سے ملاقات کی تصاویر و...   \n",
       "2   2  عرفی جاوید کے نئے لباس پر مداح حیران، ویڈیو ان...   \n",
       "3   3  مہوش حیات کو شادی کیلئے کیسا لڑکا چاہیے؟ انٹرو...   \n",
       "4   4           فیصل قریشی سوشل میڈیا پر تنقید کی زد میں   \n",
       "\n",
       "                                                link  \\\n",
       "0  https://www.express.pk/story/2733251/navjotsin...   \n",
       "1  https://www.express.pk/story/2733247/photos-of...   \n",
       "2  https://www.express.pk/story/2733236/fans-are-...   \n",
       "3  https://www.express.pk/story/2733232/what-kind...   \n",
       "4  https://www.express.pk/story/2733220/faisal-qu...   \n",
       "\n",
       "                                             content     gold_label  \n",
       "0  نوجوت سنگھ سدھو کی مشہور بھارتی کامیڈی شو ’دی ...  Entertainment  \n",
       "1  پاکستان کی شوبز انڈسٹری کے معروف اداکار عدنان ...  Entertainment  \n",
       "2  بھارتی ماڈل و اداکار عرفی جاوید کے نئے انداز ن...  Entertainment  \n",
       "3  پاکستان شوبز کی اداکارہ مہوش حیات کا کہنا ہے ک...  Entertainment  \n",
       "4  مشہور پاکستانی اداکار فیصل قریشی اور ان کی اہل...  Entertainment  "
      ]
     },
     "execution_count": 29,
     "metadata": {},
     "output_type": "execute_result"
    }
   ],
   "source": [
    "data = pd.read_csv('/Users/tahafaisal/Desktop/ml-news-classification/data/data2cleaned.csv')\n",
    "\n",
    "data.info()\n",
    "print()\n",
    "data.head()"
   ]
  },
  {
   "cell_type": "markdown",
   "metadata": {},
   "source": [
    "## Preprocessing the Dataset"
   ]
  },
  {
   "cell_type": "code",
   "execution_count": 30,
   "metadata": {},
   "outputs": [
    {
     "data": {
      "text/html": [
       "<div>\n",
       "<style scoped>\n",
       "    .dataframe tbody tr th:only-of-type {\n",
       "        vertical-align: middle;\n",
       "    }\n",
       "\n",
       "    .dataframe tbody tr th {\n",
       "        vertical-align: top;\n",
       "    }\n",
       "\n",
       "    .dataframe thead th {\n",
       "        text-align: right;\n",
       "    }\n",
       "</style>\n",
       "<table border=\"1\" class=\"dataframe\">\n",
       "  <thead>\n",
       "    <tr style=\"text-align: right;\">\n",
       "      <th></th>\n",
       "      <th>id</th>\n",
       "      <th>title</th>\n",
       "      <th>link</th>\n",
       "      <th>content</th>\n",
       "      <th>gold_label</th>\n",
       "      <th>combined</th>\n",
       "    </tr>\n",
       "  </thead>\n",
       "  <tbody>\n",
       "    <tr>\n",
       "      <th>0</th>\n",
       "      <td>0</td>\n",
       "      <td>نوجوت سنگھ سدھو نے 5 برس بعد ’کپل شرما شو‘ چھو...</td>\n",
       "      <td>https://www.express.pk/story/2733251/navjotsin...</td>\n",
       "      <td>نوجوت سنگھ سدھو مشہور بھارتی کامیڈی شو ’دی گری...</td>\n",
       "      <td>Entertainment</td>\n",
       "      <td>نوجوت سنگھ سدھو نے 5 برس بعد ’کپل شرما شو‘ چھو...</td>\n",
       "    </tr>\n",
       "    <tr>\n",
       "      <th>1</th>\n",
       "      <td>1</td>\n",
       "      <td>عدنان صدیقی شاہ چارلس سے ملاقات تصاویر وائرل</td>\n",
       "      <td>https://www.express.pk/story/2733247/photos-of...</td>\n",
       "      <td>پاکستان شوبز انڈسٹری معروف اداکار عدنان صدیقی ...</td>\n",
       "      <td>Entertainment</td>\n",
       "      <td>عدنان صدیقی شاہ چارلس سے ملاقات تصاویر وائرل پ...</td>\n",
       "    </tr>\n",
       "    <tr>\n",
       "      <th>2</th>\n",
       "      <td>2</td>\n",
       "      <td>عرفی جاوید نئے لباس مداح حیران، ویڈیو انٹرنیٹ ...</td>\n",
       "      <td>https://www.express.pk/story/2733236/fans-are-...</td>\n",
       "      <td>بھارتی ماڈل اداکار عرفی جاوید نئے انداز نے مدا...</td>\n",
       "      <td>Entertainment</td>\n",
       "      <td>عرفی جاوید نئے لباس مداح حیران، ویڈیو انٹرنیٹ ...</td>\n",
       "    </tr>\n",
       "    <tr>\n",
       "      <th>3</th>\n",
       "      <td>3</td>\n",
       "      <td>مہوش حیات کو شادی کیسا لڑکا چاہیے؟ انٹرویو وائرل</td>\n",
       "      <td>https://www.express.pk/story/2733232/what-kind...</td>\n",
       "      <td>پاکستان شوبز اداکارہ مہوش حیات کا کہنا وہ اب ش...</td>\n",
       "      <td>Entertainment</td>\n",
       "      <td>مہوش حیات کو شادی کیسا لڑکا چاہیے؟ انٹرویو وائ...</td>\n",
       "    </tr>\n",
       "    <tr>\n",
       "      <th>4</th>\n",
       "      <td>4</td>\n",
       "      <td>فیصل قریشی سوشل میڈیا تنقید زد میں</td>\n",
       "      <td>https://www.express.pk/story/2733220/faisal-qu...</td>\n",
       "      <td>مشہور پاکستانی اداکار فیصل قریشی ان اہلیہ ثناء...</td>\n",
       "      <td>Entertainment</td>\n",
       "      <td>فیصل قریشی سوشل میڈیا تنقید زد میں مشہور پاکست...</td>\n",
       "    </tr>\n",
       "  </tbody>\n",
       "</table>\n",
       "</div>"
      ],
      "text/plain": [
       "   id                                              title  \\\n",
       "0   0  نوجوت سنگھ سدھو نے 5 برس بعد ’کپل شرما شو‘ چھو...   \n",
       "1   1       عدنان صدیقی شاہ چارلس سے ملاقات تصاویر وائرل   \n",
       "2   2  عرفی جاوید نئے لباس مداح حیران، ویڈیو انٹرنیٹ ...   \n",
       "3   3   مہوش حیات کو شادی کیسا لڑکا چاہیے؟ انٹرویو وائرل   \n",
       "4   4                 فیصل قریشی سوشل میڈیا تنقید زد میں   \n",
       "\n",
       "                                                link  \\\n",
       "0  https://www.express.pk/story/2733251/navjotsin...   \n",
       "1  https://www.express.pk/story/2733247/photos-of...   \n",
       "2  https://www.express.pk/story/2733236/fans-are-...   \n",
       "3  https://www.express.pk/story/2733232/what-kind...   \n",
       "4  https://www.express.pk/story/2733220/faisal-qu...   \n",
       "\n",
       "                                             content     gold_label  \\\n",
       "0  نوجوت سنگھ سدھو مشہور بھارتی کامیڈی شو ’دی گری...  Entertainment   \n",
       "1  پاکستان شوبز انڈسٹری معروف اداکار عدنان صدیقی ...  Entertainment   \n",
       "2  بھارتی ماڈل اداکار عرفی جاوید نئے انداز نے مدا...  Entertainment   \n",
       "3  پاکستان شوبز اداکارہ مہوش حیات کا کہنا وہ اب ش...  Entertainment   \n",
       "4  مشہور پاکستانی اداکار فیصل قریشی ان اہلیہ ثناء...  Entertainment   \n",
       "\n",
       "                                            combined  \n",
       "0  نوجوت سنگھ سدھو نے 5 برس بعد ’کپل شرما شو‘ چھو...  \n",
       "1  عدنان صدیقی شاہ چارلس سے ملاقات تصاویر وائرل پ...  \n",
       "2  عرفی جاوید نئے لباس مداح حیران، ویڈیو انٹرنیٹ ...  \n",
       "3  مہوش حیات کو شادی کیسا لڑکا چاہیے؟ انٹرویو وائ...  \n",
       "4  فیصل قریشی سوشل میڈیا تنقید زد میں مشہور پاکست...  "
      ]
     },
     "execution_count": 30,
     "metadata": {},
     "output_type": "execute_result"
    }
   ],
   "source": [
    "\n",
    "with open('/Users/tahafaisal/Desktop/ml-news-classification/data/stopwords.txt', 'r', encoding='utf-8') as file:\n",
    "    stopwords = file.read().splitlines()\n",
    "\n",
    "def preprocessor(text):\n",
    "    \n",
    "    text = ' '.join([word for word in text.split() if word not in stopwords])\n",
    "    \n",
    "    return text\n",
    "\n",
    "data['title'] = data['title'].apply(preprocessor)\n",
    "data['content'] = data['content'].apply(preprocessor)\n",
    "\n",
    "data['combined'] = data['title'] + \" \" + data['content']\n",
    "\n",
    "data.head()\n"
   ]
  },
  {
   "cell_type": "code",
   "execution_count": 31,
   "metadata": {},
   "outputs": [
    {
     "name": "stdout",
     "output_type": "stream",
     "text": [
      "(1668,) (1668,)\n",
      "(418,) (418,)\n"
     ]
    }
   ],
   "source": [
    "X = data['content'] \n",
    "y = data['gold_label']\n",
    "\n",
    "X_train, X_test, y_train, y_test = train_test_split(X, y, test_size=0.2, random_state=42)\n",
    "\n",
    "print(X_train.shape, y_train.shape)\n",
    "print(X_test.shape, y_test.shape)\n",
    "\n"
   ]
  },
  {
   "cell_type": "markdown",
   "metadata": {},
   "source": [
    "## Implementation of Multinomial Naive Bayes From Scratch"
   ]
  },
  {
   "cell_type": "code",
   "execution_count": 32,
   "metadata": {},
   "outputs": [],
   "source": [
    "class BagOfWords:\n",
    "    def __init__(self):\n",
    "        self.vocabulary = {}  \n",
    "        self.vocab_size = 0\n",
    "\n",
    "    def fit(self, corpus):\n",
    "\n",
    "        unique_words = set()\n",
    "\n",
    "        for sentence in corpus:\n",
    "            words = sentence.split() \n",
    "            unique_words.update(words)  \n",
    "\n",
    "        self.vocabulary = {word: idx for idx, word in enumerate(sorted(unique_words))}\n",
    "        self.vocab_size = len(self.vocabulary)\n",
    "\n",
    "    def vectorize(self, sentence):\n",
    "\n",
    "        vector = [0] * self.vocab_size\n",
    "        \n",
    "        words = sentence.split()\n",
    "\n",
    "        for word in words:\n",
    "            if word in self.vocabulary:\n",
    "                index = self.vocabulary[word]\n",
    "                vector[index] += 1\n",
    "\n",
    "        return vector"
   ]
  },
  {
   "cell_type": "code",
   "execution_count": 33,
   "metadata": {},
   "outputs": [],
   "source": [
    "model = BagOfWords()\n",
    "model.fit(X_train)\n",
    "\n",
    "vector_training = [model.vectorize(doc) for doc in X_train]\n",
    "vector_test = [model.vectorize(doc) for doc in X_test]\n"
   ]
  },
  {
   "cell_type": "code",
   "execution_count": 34,
   "metadata": {},
   "outputs": [],
   "source": [
    "class MultiNaiveBayes:\n",
    "    def __init__(self):\n",
    "        self.classprobs = {}  \n",
    "        self.wordprobs = {}  \n",
    "        self.vocab_size = 0    \n",
    "        self.bow = BagOfWords()  # Assume BagOfWords handles vectorization without LabelEncoder                \n",
    "\n",
    "    def fit(self, X, y):\n",
    "        self.bow.fit(X)         \n",
    "        X_vectorized = [self.bow.vectorize(doc) for doc in X] \n",
    "        self.vocab_size = self.bow.vocab_size \n",
    "        n_docs = len(X)\n",
    "        \n",
    "        # Get unique classes as they are\n",
    "        unique_classes = np.unique(y)  \n",
    "        class_counts = {c: 0 for c in unique_classes}\n",
    "        word_counts = {c: np.zeros(self.vocab_size) for c in unique_classes}\n",
    "\n",
    "        for i in range(n_docs):\n",
    "            c = y.iloc[i]  # Updated to y.iloc[i] to handle pandas Series correctly\n",
    "            class_counts[c] += 1\n",
    "            word_counts[c] += X_vectorized[i]\n",
    "\n",
    "        for c in unique_classes:\n",
    "            self.classprobs[c] = class_counts[c] / n_docs\n",
    "            total_words_in_class = np.sum(word_counts[c])\n",
    "            self.wordprobs[c] = (word_counts[c] + 1) / (total_words_in_class + self.vocab_size)\n",
    "    \n",
    "    def predict(self, X):\n",
    "        X_vectorized = np.array([self.bow.vectorize(doc) for doc in X])\n",
    "        predictions = []\n",
    "        \n",
    "        for doc_vec in X_vectorized:\n",
    "            class_scores = {}\n",
    "            for c in self.classprobs:\n",
    "                log_prob_c = np.log(self.classprobs[c])\n",
    "                log_prob_x_given_c = np.sum(doc_vec * np.log(self.wordprobs[c]) + (1 - doc_vec) * np.log(1 - self.wordprobs[c]))\n",
    "                class_scores[c] = log_prob_c + log_prob_x_given_c\n",
    "            \n",
    "            best_class = max(class_scores, key=class_scores.get)\n",
    "            predictions.append(best_class)\n",
    "        \n",
    "        return predictions\n"
   ]
  },
  {
   "cell_type": "code",
   "execution_count": 35,
   "metadata": {},
   "outputs": [
    {
     "name": "stdout",
     "output_type": "stream",
     "text": [
      "Manually Implemented Naive Bayes:\n",
      "Accuracy:  0.8277511961722488\n",
      "Precision:  0.8605836595532192\n",
      "Recall:  0.8216063323648817\n",
      "F1 Score:  0.8361533076233838\n",
      "[[87  9 10  0  1]\n",
      " [ 4 81  7  0  3]\n",
      " [ 6  6 78  0  2]\n",
      " [ 0  0  5 18  0]\n",
      " [ 4  6  9  0 82]]\n"
     ]
    }
   ],
   "source": [
    "model = MultiNaiveBayes()\n",
    "model.fit(X_train, y_train) \n",
    "\n",
    "predictions = model.predict(X_test)\n",
    "\n",
    "accuracy = accuracy_score(y_test, predictions)\n",
    "precision = precision_score(y_test, predictions, average='macro')\n",
    "recall = recall_score(y_test, predictions, average='macro')\n",
    "f1 = f1_score(y_test, predictions, average='macro')\n",
    "confusionmatrix = confusion_matrix(y_test, predictions)\n",
    "\n",
    "print(\"Manually Implemented Naive Bayes:\")\n",
    "print(\"Accuracy: \", accuracy)\n",
    "print(\"Precision: \", precision)\n",
    "print(\"Recall: \", recall)\n",
    "print(\"F1 Score: \", f1)\n",
    "print(confusionmatrix)"
   ]
  },
  {
   "cell_type": "code",
   "execution_count": 36,
   "metadata": {},
   "outputs": [
    {
     "name": "stdout",
     "output_type": "stream",
     "text": [
      "For Sklearn MultiNomial Naive Bayes:\n",
      "Accuracy:  0.8277511961722488\n",
      "Precision:  0.8605836595532192\n",
      "Recall:  0.8216063323648817\n",
      "F1 Score:  0.8361533076233838\n",
      "[[87  9 10  0  1]\n",
      " [ 4 81  7  0  3]\n",
      " [ 6  6 78  0  2]\n",
      " [ 0  0  5 18  0]\n",
      " [ 4  6  9  0 82]]\n",
      "\n"
     ]
    }
   ],
   "source": [
    "from sklearn.naive_bayes import MultinomialNB\n",
    "\n",
    "model = MultinomialNB()\n",
    "model.fit(vector_training, y_train)\n",
    "mnbprediction = model.predict(vector_test)\n",
    "\n",
    "accuracy = accuracy_score(y_test, mnbprediction)\n",
    "precision = precision_score(y_test, mnbprediction, average='macro')\n",
    "recall = recall_score(y_test, mnbprediction, average='macro')\n",
    "f1 = f1_score(y_test, mnbprediction, average='macro')\n",
    "confusionmatrix = confusion_matrix(y_test, mnbprediction)\n",
    "\n",
    "print(\"For Sklearn MultiNomial Naive Bayes:\")\n",
    "print(\"Accuracy: \", accuracy)\n",
    "print(\"Precision: \", precision)\n",
    "print(\"Recall: \", recall)\n",
    "print(\"F1 Score: \", f1)\n",
    "print(confusionmatrix)\n",
    "print()"
   ]
  }
 ],
 "metadata": {
  "kernelspec": {
   "display_name": "base",
   "language": "python",
   "name": "python3"
  },
  "language_info": {
   "codemirror_mode": {
    "name": "ipython",
    "version": 3
   },
   "file_extension": ".py",
   "mimetype": "text/x-python",
   "name": "python",
   "nbconvert_exporter": "python",
   "pygments_lexer": "ipython3",
   "version": "3.11.5"
  }
 },
 "nbformat": 4,
 "nbformat_minor": 2
}
