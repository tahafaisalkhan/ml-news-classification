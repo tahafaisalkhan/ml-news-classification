{
 "cells": [
  {
   "cell_type": "code",
   "execution_count": 15,
   "metadata": {
    "id": "GJxUcZXH-zoJ"
   },
   "outputs": [],
   "source": [
    "import numpy as np\n",
    "import pandas as pd\n",
    "import matplotlib.pyplot as plt\n",
    "import re\n",
    "from sklearn.model_selection import train_test_split\n",
    "from collections import Counter\n",
    "from sklearn.metrics import confusion_matrix, ConfusionMatrixDisplay"
   ]
  },
  {
   "cell_type": "code",
   "execution_count": 16,
   "metadata": {
    "colab": {
     "base_uri": "https://localhost:8080/",
     "height": 328
    },
    "id": "BUjLviGZ-_i5",
    "outputId": "20a6c37d-2fb2-4cdc-c2f9-6b74a64c4267"
   },
   "outputs": [
    {
     "name": "stdout",
     "output_type": "stream",
     "text": [
      "gold_label\n",
      "Sports                492\n",
      "Entertainment         491\n",
      "International         486\n",
      "Business              380\n",
      "Science-Technology    188\n",
      "Name: count, dtype: int64\n"
     ]
    },
    {
     "data": {
      "text/html": [
       "<div>\n",
       "<style scoped>\n",
       "    .dataframe tbody tr th:only-of-type {\n",
       "        vertical-align: middle;\n",
       "    }\n",
       "\n",
       "    .dataframe tbody tr th {\n",
       "        vertical-align: top;\n",
       "    }\n",
       "\n",
       "    .dataframe thead th {\n",
       "        text-align: right;\n",
       "    }\n",
       "</style>\n",
       "<table border=\"1\" class=\"dataframe\">\n",
       "  <thead>\n",
       "    <tr style=\"text-align: right;\">\n",
       "      <th></th>\n",
       "      <th>id</th>\n",
       "      <th>title</th>\n",
       "      <th>link</th>\n",
       "      <th>content</th>\n",
       "      <th>gold_label</th>\n",
       "    </tr>\n",
       "  </thead>\n",
       "  <tbody>\n",
       "    <tr>\n",
       "      <th>0</th>\n",
       "      <td>0</td>\n",
       "      <td>ادارہ 'علم دوست' کی جانب سے'معلوماتِ عامہ' کے ...</td>\n",
       "      <td>https://www.express.pk/story/2733338/idara-ilm...</td>\n",
       "      <td>ادارہ 'علم دوست' کی جانب سے'معلوماتِ عامہ' کے ...</td>\n",
       "      <td>Entertainment</td>\n",
       "    </tr>\n",
       "    <tr>\n",
       "      <th>1</th>\n",
       "      <td>1</td>\n",
       "      <td>فلم ساز ودھو ونود چوپڑا کی نئی فلم ’زیرو سے ری...</td>\n",
       "      <td>https://www.express.pk/story/2733336/director-...</td>\n",
       "      <td>معروف فلم ساز ودھو ونود چوپڑا نے اپنی نئی فلم ...</td>\n",
       "      <td>Entertainment</td>\n",
       "    </tr>\n",
       "    <tr>\n",
       "      <th>2</th>\n",
       "      <td>2</td>\n",
       "      <td>عمر بڑھنے کے ساتھ وزن کم کرنا مشکل ہوتا ہے، اب...</td>\n",
       "      <td>https://www.express.pk/story/2733331/umer-barh...</td>\n",
       "      <td>ابھیشیک بچن نے اپنی نئی فلم ’آئی وانٹ ٹو ٹاک‘ ...</td>\n",
       "      <td>Entertainment</td>\n",
       "    </tr>\n",
       "    <tr>\n",
       "      <th>3</th>\n",
       "      <td>3</td>\n",
       "      <td>ملائکہ اروڑا والد کے انتقال کے بعد کام پر واپس...</td>\n",
       "      <td>https://www.express.pk/story/2733327/malaikaar...</td>\n",
       "      <td>مشہور اداکارہ ملائکہ اروڑا حال ہی میں والد کے ...</td>\n",
       "      <td>Entertainment</td>\n",
       "    </tr>\n",
       "    <tr>\n",
       "      <th>4</th>\n",
       "      <td>4</td>\n",
       "      <td>ڈائریکٹر دھرمیش درشن کا دو بار شاہ رخ خان کی ف...</td>\n",
       "      <td>https://www.express.pk/story/2733325/directord...</td>\n",
       "      <td>بالی ووڈ کے معروف ہدایتکار دھرمیش درشن نے حالی...</td>\n",
       "      <td>Entertainment</td>\n",
       "    </tr>\n",
       "  </tbody>\n",
       "</table>\n",
       "</div>"
      ],
      "text/plain": [
       "   id                                              title  \\\n",
       "0   0  ادارہ 'علم دوست' کی جانب سے'معلوماتِ عامہ' کے ...   \n",
       "1   1  فلم ساز ودھو ونود چوپڑا کی نئی فلم ’زیرو سے ری...   \n",
       "2   2  عمر بڑھنے کے ساتھ وزن کم کرنا مشکل ہوتا ہے، اب...   \n",
       "3   3  ملائکہ اروڑا والد کے انتقال کے بعد کام پر واپس...   \n",
       "4   4  ڈائریکٹر دھرمیش درشن کا دو بار شاہ رخ خان کی ف...   \n",
       "\n",
       "                                                link  \\\n",
       "0  https://www.express.pk/story/2733338/idara-ilm...   \n",
       "1  https://www.express.pk/story/2733336/director-...   \n",
       "2  https://www.express.pk/story/2733331/umer-barh...   \n",
       "3  https://www.express.pk/story/2733327/malaikaar...   \n",
       "4  https://www.express.pk/story/2733325/directord...   \n",
       "\n",
       "                                             content     gold_label  \n",
       "0  ادارہ 'علم دوست' کی جانب سے'معلوماتِ عامہ' کے ...  Entertainment  \n",
       "1  معروف فلم ساز ودھو ونود چوپڑا نے اپنی نئی فلم ...  Entertainment  \n",
       "2  ابھیشیک بچن نے اپنی نئی فلم ’آئی وانٹ ٹو ٹاک‘ ...  Entertainment  \n",
       "3  مشہور اداکارہ ملائکہ اروڑا حال ہی میں والد کے ...  Entertainment  \n",
       "4  بالی ووڈ کے معروف ہدایتکار دھرمیش درشن نے حالی...  Entertainment  "
      ]
     },
     "execution_count": 16,
     "metadata": {},
     "output_type": "execute_result"
    }
   ],
   "source": [
    "data = pd.read_csv(\"/Users/tahafaisal/Desktop/ml-news-classification/data/data3cleaned.csv\")\n",
    "\n",
    "class_counts = data['gold_label'].value_counts()\n",
    "print(class_counts)\n",
    "data.head()"
   ]
  },
  {
   "cell_type": "code",
   "execution_count": 17,
   "metadata": {
    "id": "3Kn8YfnA_CaY"
   },
   "outputs": [],
   "source": [
    "def load_stopwords(file_path):\n",
    "    with open(file_path, 'r', encoding='utf-8') as f:\n",
    "        stopwords = set(f.read().splitlines())\n",
    "    return stopwords\n",
    "\n",
    "custom_stopwords = load_stopwords(\"/Users/tahafaisal/Desktop/ml-news-classification/data/stopwords.txt\")\n",
    "\n",
    "\n",
    "def tokenize(text):\n",
    "    tokens = re.findall(r'\\b\\w+\\b', text)\n",
    "    return [token.strip() for token in tokens]\n",
    "\n",
    "def remove_stopwords(tokens, stopwords):\n",
    "    filtered_tokens = [word for word in tokens if word not in stopwords]\n",
    "    return filtered_tokens\n",
    "\n",
    "\n",
    "def normalize(text):\n",
    "    return re.sub(r\"[ﺍأإآا]\", \"ا\", text)\n",
    "\n",
    "data['content'] = data['content'].apply(\n",
    "    lambda x: \" \".join(remove_stopwords(tokenize(normalize(str(x))), custom_stopwords))\n",
    ")\n",
    "\n",
    "label_mapping = {label: idx for idx, label in enumerate(data['gold_label'].unique())}\n",
    "data['gold_labels_encoded'] = data['gold_label'].map(label_mapping)\n",
    "\n",
    "X_train, X_test, y_train, y_test = train_test_split(data['content'], data['gold_labels_encoded'], test_size=0.2, random_state=80)\n"
   ]
  },
  {
   "cell_type": "code",
   "execution_count": 18,
   "metadata": {
    "colab": {
     "base_uri": "https://localhost:8080/",
     "height": 241
    },
    "id": "Yu0HkYvS_LvO",
    "outputId": "05b9d4f9-d8b9-43a8-f4d3-8864369c013a"
   },
   "outputs": [
    {
     "data": {
      "text/plain": [
       "204     1\n",
       "635     0\n",
       "1972    3\n",
       "1145    2\n",
       "172     1\n",
       "Name: gold_labels_encoded, dtype: int64"
      ]
     },
     "execution_count": 18,
     "metadata": {},
     "output_type": "execute_result"
    }
   ],
   "source": [
    "X_train.head()\n",
    "y_train.head()"
   ]
  },
  {
   "cell_type": "code",
   "execution_count": 19,
   "metadata": {
    "id": "_Ptet7Em_VJN"
   },
   "outputs": [],
   "source": [
    "def BagofWords(texts, max_features=5000):\n",
    "    word_counts = Counter(word for text in texts for word in text.split())\n",
    "    return {word: idx for idx, (word, _) in enumerate(word_counts.most_common(max_features))}\n",
    "\n",
    "def text_to_vector(texts, vocab):\n",
    "    vectors = np.zeros((len(texts), len(vocab)))\n",
    "    for i, text in enumerate(texts):\n",
    "        for word in text.split():\n",
    "            if word in vocab:\n",
    "                vectors[i, vocab[word]] += 1\n",
    "    return vectors\n",
    "\n",
    "\n",
    "vocab = BagofWords(X_train, max_features=5000)\n",
    "X_train_vectorized = text_to_vector(X_train, vocab)\n",
    "X_test_vectorized = text_to_vector(X_test, vocab)\n"
   ]
  },
  {
   "cell_type": "code",
   "execution_count": 20,
   "metadata": {
    "colab": {
     "base_uri": "https://localhost:8080/"
    },
    "id": "PelEdNzh_dNF",
    "outputId": "4fa951b5-59a9-491e-fd66-c3bf830ee27e"
   },
   "outputs": [],
   "source": [
    "class NeuralNetwork:\n",
    "    def __init__(self, input_size, hidden_size, output_size, alpha=0.01, dropout_rate=0.2):\n",
    "        self.alpha = alpha\n",
    "        self.W1 = np.random.randn(input_size, hidden_size) * 0.01\n",
    "        self.b1 = np.zeros((1, hidden_size))\n",
    "        self.W2 = np.random.randn(hidden_size, output_size) * 0.01\n",
    "        self.b2 = np.zeros((1, output_size))\n",
    "        self.dropout_rate = dropout_rate\n",
    "\n",
    "    def relu(self, z):\n",
    "        return np.maximum(0, z)\n",
    "\n",
    "    def relu_derivative(self, z):\n",
    "        return z > 0\n",
    "\n",
    "    def softmax(self, z):\n",
    "        exp_z = np.exp(z - np.max(z, axis=1, keepdims=True))\n",
    "        return exp_z / np.sum(exp_z, axis=1, keepdims=True)\n",
    "\n",
    "    def dropout(self, A):\n",
    "        mask = (np.random.rand(*A.shape) > self.dropout_rate)\n",
    "        return A * mask\n",
    "\n",
    "    def forward(self, X):\n",
    "        self.Z1 = np.dot(X, self.W1) + self.b1\n",
    "        self.A1 = self.relu(self.Z1)\n",
    "        self.A1 = self.dropout(self.A1)\n",
    "        self.Z2 = np.dot(self.A1, self.W2) + self.b2\n",
    "        self.A2 = self.softmax(self.Z2)\n",
    "        return self.A2\n",
    "\n",
    "    def backward(self, X, y, output):\n",
    "        m = X.shape[0]\n",
    "        y_onehot = np.zeros_like(output)\n",
    "        y_onehot[np.arange(m), y] = 1\n",
    "        dZ2 = output - y_onehot\n",
    "        dW2 = np.dot(self.A1.T, dZ2)/m\n",
    "        db2 = np.sum(dZ2, axis=0, keepdims=True)/m\n",
    "\n",
    "        dA1 = np.dot(dZ2, self.W2.T)\n",
    "        dZ1 = dA1 * self.relu_derivative(self.Z1)\n",
    "        dW1 = np.dot(X.T, dZ1)/m\n",
    "        db1 = np.sum(dZ1, axis=0, keepdims=True)/m\n",
    "\n",
    "        self.W1 -= self.alpha * (dW1 + 0.02 * self.W1)\n",
    "        self.W2 -= self.alpha * (dW2 + 0.02 * self.W2)\n",
    "        self.b2 -= self.alpha * db2\n",
    "        self.b1 -= self.alpha * db1\n",
    "\n",
    "    def fit(self, X, y, epochs=1000):\n",
    "        for epoch in range(epochs):\n",
    "            output = self.forward(X)\n",
    "            self.backward(X, y, output)\n",
    "            if epoch % 100 == 0:\n",
    "                loss = -np.mean(np.log(output[np.arange(X.shape[0]), y]))\n",
    "                print(f\"Epoch {epoch}, Loss: {loss:.4f}\")\n",
    "\n",
    "    def predict(self, X):\n",
    "        output = self.forward(X)\n",
    "        return np.argmax(output, axis=1)"
   ]
  },
  {
   "cell_type": "code",
   "execution_count": 21,
   "metadata": {},
   "outputs": [
    {
     "name": "stdout",
     "output_type": "stream",
     "text": [
      "Epoch 0, Loss: 1.6084\n",
      "Epoch 100, Loss: 0.1807\n",
      "Epoch 200, Loss: 0.0957\n",
      "Epoch 300, Loss: 0.0748\n",
      "Epoch 400, Loss: 0.0665\n",
      "Epoch 500, Loss: 0.0637\n",
      "Epoch 600, Loss: 0.0606\n",
      "Epoch 700, Loss: 0.0609\n",
      "Epoch 800, Loss: 0.0592\n",
      "Epoch 900, Loss: 0.0583\n"
     ]
    }
   ],
   "source": [
    "nn = NeuralNetwork(input_size=len(vocab), hidden_size=200, output_size=len(label_mapping), alpha=0.1)\n",
    "nn.fit(X_train_vectorized, y_train.values, epochs=1000)"
   ]
  },
  {
   "cell_type": "code",
   "execution_count": 22,
   "metadata": {
    "colab": {
     "base_uri": "https://localhost:8080/"
    },
    "id": "GIfGwCCY_gG8",
    "outputId": "76a3348d-0ec9-4f85-d657-0919b47aa3d8"
   },
   "outputs": [
    {
     "name": "stdout",
     "output_type": "stream",
     "text": [
      "Accuracy: 97.06%\n"
     ]
    }
   ],
   "source": [
    "y_pred = nn.predict(X_test_vectorized)\n",
    "accuracy = np.mean(y_pred == y_test.values)\n",
    "print(f\"Accuracy: {accuracy * 100:.2f}%\")"
   ]
  },
  {
   "cell_type": "code",
   "execution_count": 23,
   "metadata": {
    "colab": {
     "base_uri": "https://localhost:8080/",
     "height": 472
    },
    "id": "If8px5RZAhoF",
    "outputId": "6d885efd-cb99-4011-ec05-83b34f1eec3b"
   },
   "outputs": [
    {
     "data": {
      "image/png": "[encoded data removed]",
      "text/plain": [
       "<Figure size 640x480 with 2 Axes>"
      ]
     },
     "metadata": {},
     "output_type": "display_data"
    }
   ],
   "source": [
    "y_true = y_test.values\n",
    "conf_matrix = confusion_matrix(y_true, y_pred)\n",
    "\n",
    "disp = ConfusionMatrixDisplay(confusion_matrix=conf_matrix, display_labels=list(label_mapping.keys()))\n",
    "disp.plot(cmap=plt.cm.Blues)\n",
    "plt.title(\"Confusion Matrix\")\n",
    "plt.show()"
   ]
  }
 ],
 "metadata": {
  "colab": {
   "provenance": []
  },
  "kernelspec": {
   "display_name": "base",
   "language": "python",
   "name": "python3"
  },
  "language_info": {
   "codemirror_mode": {
    "name": "ipython",
    "version": 3
   },
   "file_extension": ".py",
   "mimetype": "text/x-python",
   "name": "python",
   "nbconvert_exporter": "python",
   "pygments_lexer": "ipython3",
   "version": "3.11.5"
  }
 },
 "nbformat": 4,
 "nbformat_minor": 0
}
