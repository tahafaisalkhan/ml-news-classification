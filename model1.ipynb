{
 "cells": [
  {
   "cell_type": "markdown",
   "metadata": {
    "vscode": {
     "languageId": "plaintext"
    }
   },
   "source": [
    "# Model 1: MultiNomial Naive Bayes"
   ]
  },
  {
   "cell_type": "code",
   "execution_count": null,
   "metadata": {},
   "outputs": [],
   "source": [
    "import numpy as np\n",
    "import pandas as pd\n",
    "from sklearn.model_selection import train_test_split\n",
    "from sklearn.metrics import accuracy_score, precision_score, recall_score, f1_score, confusion_matrix"
   ]
  },
  {
   "cell_type": "markdown",
   "metadata": {},
   "source": [
    "## Loading the Dataset"
   ]
  },
  {
   "cell_type": "code",
   "execution_count": 57,
   "metadata": {},
   "outputs": [
    {
     "name": "stdout",
     "output_type": "stream",
     "text": [
      "<class 'pandas.core.frame.DataFrame'>\n",
      "RangeIndex: 1549 entries, 0 to 1548\n",
      "Data columns (total 5 columns):\n",
      " #   Column      Non-Null Count  Dtype \n",
      "---  ------      --------------  ----- \n",
      " 0   id          1549 non-null   int64 \n",
      " 1   title       1549 non-null   object\n",
      " 2   link        1549 non-null   object\n",
      " 3   content     1549 non-null   object\n",
      " 4   gold_label  1549 non-null   object\n",
      "dtypes: int64(1), object(4)\n",
      "memory usage: 60.6+ KB\n",
      "\n"
     ]
    },
    {
     "data": {
      "text/html": [
       "<div>\n",
       "<style scoped>\n",
       "    .dataframe tbody tr th:only-of-type {\n",
       "        vertical-align: middle;\n",
       "    }\n",
       "\n",
       "    .dataframe tbody tr th {\n",
       "        vertical-align: top;\n",
       "    }\n",
       "\n",
       "    .dataframe thead th {\n",
       "        text-align: right;\n",
       "    }\n",
       "</style>\n",
       "<table border=\"1\" class=\"dataframe\">\n",
       "  <thead>\n",
       "    <tr style=\"text-align: right;\">\n",
       "      <th></th>\n",
       "      <th>id</th>\n",
       "      <th>title</th>\n",
       "      <th>link</th>\n",
       "      <th>content</th>\n",
       "      <th>gold_label</th>\n",
       "    </tr>\n",
       "  </thead>\n",
       "  <tbody>\n",
       "    <tr>\n",
       "      <th>0</th>\n",
       "      <td>0</td>\n",
       "      <td>کبھی میں کبھی تم‘ کا محبت بھرا اختتام، شرجینا ...</td>\n",
       "      <td>https://www.express.pk/story/2731764/kbhi-main...</td>\n",
       "      <td>کبھی میں کبھی تم کی آخری قسط میں شرجینا اور مص...</td>\n",
       "      <td>Entertainment</td>\n",
       "    </tr>\n",
       "    <tr>\n",
       "      <th>1</th>\n",
       "      <td>1</td>\n",
       "      <td>پاکستانی اداکار احسن خان کی کرس گیل کے ساتھ ڈا...</td>\n",
       "      <td>https://www.express.pk/story/2731730/ahsan-kha...</td>\n",
       "      <td>پاکستانی اداکار احسن خان کی ویسٹ انڈیز کے سابق...</td>\n",
       "      <td>Entertainment</td>\n",
       "    </tr>\n",
       "    <tr>\n",
       "      <th>2</th>\n",
       "      <td>2</td>\n",
       "      <td>اداکارہ لائبہ خان نے عمرے کی سعادت حاصل کرلی</td>\n",
       "      <td>https://www.express.pk/story/2731719/pakistani...</td>\n",
       "      <td>پاکستانی اداکارہ لائبہ خان نے اپنی فیملی کے ہم...</td>\n",
       "      <td>Entertainment</td>\n",
       "    </tr>\n",
       "    <tr>\n",
       "      <th>3</th>\n",
       "      <td>3</td>\n",
       "      <td>ویرات کوہلی کی 36 ویں سالگرہ پر انوشکا نے ’اکے...</td>\n",
       "      <td>https://www.express.pk/story/2731713/anushka-s...</td>\n",
       "      <td>انوشکا شرما نے اپنے شوہر ویرات کوہلی کی 36 ویں...</td>\n",
       "      <td>Entertainment</td>\n",
       "    </tr>\n",
       "    <tr>\n",
       "      <th>4</th>\n",
       "      <td>4</td>\n",
       "      <td>شاہ رخ خان نے 95 دن سے گھر کے باہر بیٹھے مداح ...</td>\n",
       "      <td>https://www.express.pk/story/2731697/shah-rukh...</td>\n",
       "      <td>بالی ووڈ اسٹار شاہ رخ خان نے 95 دن سے گھر کے ب...</td>\n",
       "      <td>Entertainment</td>\n",
       "    </tr>\n",
       "  </tbody>\n",
       "</table>\n",
       "</div>"
      ],
      "text/plain": [
       "   id                                              title  \\\n",
       "0   0  کبھی میں کبھی تم‘ کا محبت بھرا اختتام، شرجینا ...   \n",
       "1   1  پاکستانی اداکار احسن خان کی کرس گیل کے ساتھ ڈا...   \n",
       "2   2       اداکارہ لائبہ خان نے عمرے کی سعادت حاصل کرلی   \n",
       "3   3  ویرات کوہلی کی 36 ویں سالگرہ پر انوشکا نے ’اکے...   \n",
       "4   4  شاہ رخ خان نے 95 دن سے گھر کے باہر بیٹھے مداح ...   \n",
       "\n",
       "                                                link  \\\n",
       "0  https://www.express.pk/story/2731764/kbhi-main...   \n",
       "1  https://www.express.pk/story/2731730/ahsan-kha...   \n",
       "2  https://www.express.pk/story/2731719/pakistani...   \n",
       "3  https://www.express.pk/story/2731713/anushka-s...   \n",
       "4  https://www.express.pk/story/2731697/shah-rukh...   \n",
       "\n",
       "                                             content     gold_label  \n",
       "0  کبھی میں کبھی تم کی آخری قسط میں شرجینا اور مص...  Entertainment  \n",
       "1  پاکستانی اداکار احسن خان کی ویسٹ انڈیز کے سابق...  Entertainment  \n",
       "2  پاکستانی اداکارہ لائبہ خان نے اپنی فیملی کے ہم...  Entertainment  \n",
       "3  انوشکا شرما نے اپنے شوہر ویرات کوہلی کی 36 ویں...  Entertainment  \n",
       "4  بالی ووڈ اسٹار شاہ رخ خان نے 95 دن سے گھر کے ب...  Entertainment  "
      ]
     },
     "execution_count": 57,
     "metadata": {},
     "output_type": "execute_result"
    }
   ],
   "source": [
    "data = pd.read_csv('cleaned_news_data.csv')\n",
    "\n",
    "data.info()\n",
    "print()\n",
    "data.head()"
   ]
  },
  {
   "cell_type": "markdown",
   "metadata": {},
   "source": [
    "## Preprocessing the Dataset"
   ]
  },
  {
   "cell_type": "code",
   "execution_count": 58,
   "metadata": {},
   "outputs": [
    {
     "data": {
      "text/html": [
       "<div>\n",
       "<style scoped>\n",
       "    .dataframe tbody tr th:only-of-type {\n",
       "        vertical-align: middle;\n",
       "    }\n",
       "\n",
       "    .dataframe tbody tr th {\n",
       "        vertical-align: top;\n",
       "    }\n",
       "\n",
       "    .dataframe thead th {\n",
       "        text-align: right;\n",
       "    }\n",
       "</style>\n",
       "<table border=\"1\" class=\"dataframe\">\n",
       "  <thead>\n",
       "    <tr style=\"text-align: right;\">\n",
       "      <th></th>\n",
       "      <th>id</th>\n",
       "      <th>title</th>\n",
       "      <th>link</th>\n",
       "      <th>content</th>\n",
       "      <th>gold_label</th>\n",
       "      <th>combined</th>\n",
       "    </tr>\n",
       "  </thead>\n",
       "  <tbody>\n",
       "    <tr>\n",
       "      <th>0</th>\n",
       "      <td>0</td>\n",
       "      <td>کبھی میں کبھی تم‘ کا محبت بھرا اختتام، شرجینا ...</td>\n",
       "      <td>https://www.express.pk/story/2731764/kbhi-main...</td>\n",
       "      <td>کبھی میں کبھی تم آخری قسط میں شرجینا مصطفیٰ نے...</td>\n",
       "      <td>Entertainment</td>\n",
       "      <td>کبھی میں کبھی تم‘ کا محبت بھرا اختتام، شرجینا ...</td>\n",
       "    </tr>\n",
       "    <tr>\n",
       "      <th>1</th>\n",
       "      <td>1</td>\n",
       "      <td>پاکستانی اداکار احسن خان کرس گیل ساتھ ڈانس ویڈ...</td>\n",
       "      <td>https://www.express.pk/story/2731730/ahsan-kha...</td>\n",
       "      <td>پاکستانی اداکار احسن خان ویسٹ انڈیز سابق کرکٹر...</td>\n",
       "      <td>Entertainment</td>\n",
       "      <td>پاکستانی اداکار احسن خان کرس گیل ساتھ ڈانس ویڈ...</td>\n",
       "    </tr>\n",
       "    <tr>\n",
       "      <th>2</th>\n",
       "      <td>2</td>\n",
       "      <td>اداکارہ لائبہ خان نے عمرے سعادت حاصل کرلی</td>\n",
       "      <td>https://www.express.pk/story/2731719/pakistani...</td>\n",
       "      <td>پاکستانی اداکارہ لائبہ خان نے اپنی فیملی ہمراہ...</td>\n",
       "      <td>Entertainment</td>\n",
       "      <td>اداکارہ لائبہ خان نے عمرے سعادت حاصل کرلی پاکس...</td>\n",
       "    </tr>\n",
       "    <tr>\n",
       "      <th>3</th>\n",
       "      <td>3</td>\n",
       "      <td>ویرات کوہلی 36 ویں سالگرہ انوشکا نے ’اکے‘ جھلک...</td>\n",
       "      <td>https://www.express.pk/story/2731713/anushka-s...</td>\n",
       "      <td>انوشکا شرما نے اپنے شوہر ویرات کوہلی 36 ویں سا...</td>\n",
       "      <td>Entertainment</td>\n",
       "      <td>ویرات کوہلی 36 ویں سالگرہ انوشکا نے ’اکے‘ جھلک...</td>\n",
       "    </tr>\n",
       "    <tr>\n",
       "      <th>4</th>\n",
       "      <td>4</td>\n",
       "      <td>شاہ رخ خان نے 95 دن سے گھر باہر بیٹھے مداح کو ...</td>\n",
       "      <td>https://www.express.pk/story/2731697/shah-rukh...</td>\n",
       "      <td>بالی ووڈ اسٹار شاہ رخ خان نے 95 دن سے گھر باہر...</td>\n",
       "      <td>Entertainment</td>\n",
       "      <td>شاہ رخ خان نے 95 دن سے گھر باہر بیٹھے مداح کو ...</td>\n",
       "    </tr>\n",
       "  </tbody>\n",
       "</table>\n",
       "</div>"
      ],
      "text/plain": [
       "   id                                              title  \\\n",
       "0   0  کبھی میں کبھی تم‘ کا محبت بھرا اختتام، شرجینا ...   \n",
       "1   1  پاکستانی اداکار احسن خان کرس گیل ساتھ ڈانس ویڈ...   \n",
       "2   2          اداکارہ لائبہ خان نے عمرے سعادت حاصل کرلی   \n",
       "3   3  ویرات کوہلی 36 ویں سالگرہ انوشکا نے ’اکے‘ جھلک...   \n",
       "4   4  شاہ رخ خان نے 95 دن سے گھر باہر بیٹھے مداح کو ...   \n",
       "\n",
       "                                                link  \\\n",
       "0  https://www.express.pk/story/2731764/kbhi-main...   \n",
       "1  https://www.express.pk/story/2731730/ahsan-kha...   \n",
       "2  https://www.express.pk/story/2731719/pakistani...   \n",
       "3  https://www.express.pk/story/2731713/anushka-s...   \n",
       "4  https://www.express.pk/story/2731697/shah-rukh...   \n",
       "\n",
       "                                             content     gold_label  \\\n",
       "0  کبھی میں کبھی تم آخری قسط میں شرجینا مصطفیٰ نے...  Entertainment   \n",
       "1  پاکستانی اداکار احسن خان ویسٹ انڈیز سابق کرکٹر...  Entertainment   \n",
       "2  پاکستانی اداکارہ لائبہ خان نے اپنی فیملی ہمراہ...  Entertainment   \n",
       "3  انوشکا شرما نے اپنے شوہر ویرات کوہلی 36 ویں سا...  Entertainment   \n",
       "4  بالی ووڈ اسٹار شاہ رخ خان نے 95 دن سے گھر باہر...  Entertainment   \n",
       "\n",
       "                                            combined  \n",
       "0  کبھی میں کبھی تم‘ کا محبت بھرا اختتام، شرجینا ...  \n",
       "1  پاکستانی اداکار احسن خان کرس گیل ساتھ ڈانس ویڈ...  \n",
       "2  اداکارہ لائبہ خان نے عمرے سعادت حاصل کرلی پاکس...  \n",
       "3  ویرات کوہلی 36 ویں سالگرہ انوشکا نے ’اکے‘ جھلک...  \n",
       "4  شاہ رخ خان نے 95 دن سے گھر باہر بیٹھے مداح کو ...  "
      ]
     },
     "execution_count": 58,
     "metadata": {},
     "output_type": "execute_result"
    }
   ],
   "source": [
    "\n",
    "with open('stopwords.txt', 'r', encoding='utf-8') as file:\n",
    "    stopwords = file.read().splitlines()\n",
    "\n",
    "def preprocessor(text):\n",
    "    \n",
    "    text = ' '.join([word for word in text.split() if word not in stopwords])\n",
    "    \n",
    "    return text\n",
    "\n",
    "data['title'] = data['title'].apply(preprocessor)\n",
    "data['content'] = data['content'].apply(preprocessor)\n",
    "\n",
    "data['combined'] = data['title'] + \" \" + data['content']\n",
    "\n",
    "data.head()\n"
   ]
  },
  {
   "cell_type": "code",
   "execution_count": 59,
   "metadata": {},
   "outputs": [
    {
     "name": "stdout",
     "output_type": "stream",
     "text": [
      "(1239,) (1239,)\n",
      "(310,) (310,)\n"
     ]
    }
   ],
   "source": [
    "X = data['content'] \n",
    "y = data['gold_label']\n",
    "\n",
    "X_train, X_test, y_train, y_test = train_test_split(X, y, test_size=0.2, random_state=42)\n",
    "\n",
    "print(X_train.shape, y_train.shape)\n",
    "print(X_test.shape, y_test.shape)\n",
    "\n"
   ]
  },
  {
   "cell_type": "markdown",
   "metadata": {},
   "source": [
    "## Implementation of Multinomial Naive Bayes From Scratch"
   ]
  },
  {
   "cell_type": "code",
   "execution_count": 60,
   "metadata": {},
   "outputs": [],
   "source": [
    "class BagOfWords:\n",
    "    def __init__(self):\n",
    "        self.vocabulary = {}  \n",
    "        self.vocab_size = 0\n",
    "\n",
    "    def fit(self, corpus):\n",
    "\n",
    "        unique_words = set()\n",
    "\n",
    "        for sentence in corpus:\n",
    "            words = sentence.split() \n",
    "            unique_words.update(words)  \n",
    "\n",
    "        self.vocabulary = {word: idx for idx, word in enumerate(sorted(unique_words))}\n",
    "        self.vocab_size = len(self.vocabulary)\n",
    "\n",
    "    def vectorize(self, sentence):\n",
    "\n",
    "        vector = [0] * self.vocab_size\n",
    "        \n",
    "        words = sentence.split()\n",
    "\n",
    "        for word in words:\n",
    "            if word in self.vocabulary:\n",
    "                index = self.vocabulary[word]\n",
    "                vector[index] += 1\n",
    "\n",
    "        return vector"
   ]
  },
  {
   "cell_type": "code",
   "execution_count": 61,
   "metadata": {},
   "outputs": [],
   "source": [
    "model = BagOfWords()\n",
    "model.fit(X_train)\n",
    "\n",
    "vector_training = [model.vectorize(doc) for doc in X_train]\n",
    "vector_test = [model.vectorize(doc) for doc in X_test]\n"
   ]
  },
  {
   "cell_type": "code",
   "execution_count": 62,
   "metadata": {},
   "outputs": [],
   "source": [
    "class MultiNaiveBayes:\n",
    "    def __init__(self):\n",
    "        self.classprobs = {}  \n",
    "        self.wordprobs = {}  \n",
    "        self.vocab_size = 0    \n",
    "        self.bow = BagOfWords()  # Assume BagOfWords handles vectorization without LabelEncoder                \n",
    "\n",
    "    def fit(self, X, y):\n",
    "        self.bow.fit(X)         \n",
    "        X_vectorized = [self.bow.vectorize(doc) for doc in X] \n",
    "        self.vocab_size = self.bow.vocab_size \n",
    "        n_docs = len(X)\n",
    "        \n",
    "        # Get unique classes as they are\n",
    "        unique_classes = np.unique(y)  \n",
    "        class_counts = {c: 0 for c in unique_classes}\n",
    "        word_counts = {c: np.zeros(self.vocab_size) for c in unique_classes}\n",
    "\n",
    "        for i in range(n_docs):\n",
    "            c = y.iloc[i]  # Updated to y.iloc[i] to handle pandas Series correctly\n",
    "            class_counts[c] += 1\n",
    "            word_counts[c] += X_vectorized[i]\n",
    "\n",
    "        for c in unique_classes:\n",
    "            self.classprobs[c] = class_counts[c] / n_docs\n",
    "            total_words_in_class = np.sum(word_counts[c])\n",
    "            self.wordprobs[c] = (word_counts[c] + 1) / (total_words_in_class + self.vocab_size)\n",
    "    \n",
    "    def predict(self, X):\n",
    "        X_vectorized = np.array([self.bow.vectorize(doc) for doc in X])\n",
    "        predictions = []\n",
    "        \n",
    "        for doc_vec in X_vectorized:\n",
    "            class_scores = {}\n",
    "            for c in self.classprobs:\n",
    "                log_prob_c = np.log(self.classprobs[c])\n",
    "                log_prob_x_given_c = np.sum(doc_vec * np.log(self.wordprobs[c]) + (1 - doc_vec) * np.log(1 - self.wordprobs[c]))\n",
    "                class_scores[c] = log_prob_c + log_prob_x_given_c\n",
    "            \n",
    "            best_class = max(class_scores, key=class_scores.get)\n",
    "            predictions.append(best_class)\n",
    "        \n",
    "        return predictions\n"
   ]
  },
  {
   "cell_type": "code",
   "execution_count": 63,
   "metadata": {},
   "outputs": [
    {
     "name": "stdout",
     "output_type": "stream",
     "text": [
      "Manually Implemented Naive Bayes:\n",
      "Accuracy:  0.8516129032258064\n",
      "Precision:  0.8688089427219863\n",
      "Recall:  0.8530807139542249\n",
      "F1 Score:  0.8468886281752823\n",
      "[[42  1  1  0  0]\n",
      " [11 73  1  1  0]\n",
      " [ 9  0 61  0  0]\n",
      " [ 3  1  2 22  0]\n",
      " [ 9  3  4  0 66]]\n"
     ]
    }
   ],
   "source": [
    "model = MultiNaiveBayes()\n",
    "model.fit(X_train, y_train) \n",
    "\n",
    "predictions = model.predict(X_test)\n",
    "\n",
    "accuracy = accuracy_score(y_test, predictions)\n",
    "precision = precision_score(y_test, predictions, average='macro')\n",
    "recall = recall_score(y_test, predictions, average='macro')\n",
    "f1 = f1_score(y_test, predictions, average='macro')\n",
    "confusionmatrix = confusion_matrix(y_test, predictions)\n",
    "\n",
    "print(\"Manually Implemented Naive Bayes:\")\n",
    "print(\"Accuracy: \", accuracy)\n",
    "print(\"Precision: \", precision)\n",
    "print(\"Recall: \", recall)\n",
    "print(\"F1 Score: \", f1)\n",
    "print(confusionmatrix)"
   ]
  },
  {
   "cell_type": "code",
   "execution_count": 64,
   "metadata": {},
   "outputs": [
    {
     "name": "stdout",
     "output_type": "stream",
     "text": [
      "For Sklearn MultiNomial Naive Bayes:\n",
      "Accuracy:  0.8516129032258064\n",
      "Precision:  0.8688089427219863\n",
      "Recall:  0.8530807139542249\n",
      "F1 Score:  0.8468886281752823\n",
      "[[42  1  1  0  0]\n",
      " [11 73  1  1  0]\n",
      " [ 9  0 61  0  0]\n",
      " [ 3  1  2 22  0]\n",
      " [ 9  3  4  0 66]]\n",
      "\n"
     ]
    }
   ],
   "source": [
    "from sklearn.naive_bayes import MultinomialNB\n",
    "\n",
    "model = MultinomialNB()\n",
    "model.fit(vector_training, y_train)\n",
    "mnbprediction = model.predict(vector_test)\n",
    "\n",
    "accuracy = accuracy_score(y_test, mnbprediction)\n",
    "precision = precision_score(y_test, mnbprediction, average='macro')\n",
    "recall = recall_score(y_test, mnbprediction, average='macro')\n",
    "f1 = f1_score(y_test, mnbprediction, average='macro')\n",
    "confusionmatrix = confusion_matrix(y_test, mnbprediction)\n",
    "\n",
    "print(\"For Sklearn MultiNomial Naive Bayes:\")\n",
    "print(\"Accuracy: \", accuracy)\n",
    "print(\"Precision: \", precision)\n",
    "print(\"Recall: \", recall)\n",
    "print(\"F1 Score: \", f1)\n",
    "print(confusionmatrix)\n",
    "print()"
   ]
  }
 ],
 "metadata": {
  "kernelspec": {
   "display_name": "Python 3",
   "language": "python",
   "name": "python3"
  },
  "language_info": {
   "codemirror_mode": {
    "name": "ipython",
    "version": 3
   },
   "file_extension": ".py",
   "mimetype": "text/x-python",
   "name": "python",
   "nbconvert_exporter": "python",
   "pygments_lexer": "ipython3",
   "version": "3.12.2"
  }
 },
 "nbformat": 4,
 "nbformat_minor": 2
}
